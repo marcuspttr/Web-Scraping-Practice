{
 "cells": [
  {
   "cell_type": "code",
   "execution_count": null,
   "source": [
    "from splinter import Browser\r\n",
    "from bs4 import BeautifulSoup as bs\r\n",
    "import time\r\n",
    "from webdriver_manager.chrome import ChromeDriverManager"
   ],
   "outputs": [],
   "metadata": {}
  },
  {
   "cell_type": "code",
   "execution_count": 3,
   "source": [
    "def scrape_info():\r\n",
    "    # Set up Splinter\r\n",
    "    executable_path = {'executable_path': ChromeDriverManager().install()}\r\n",
    "    browser = Browser('chrome', **executable_path, headless=False)\r\n",
    "    \r\n",
    "    # Path to Mars website.\r\n",
    "    url = \"https://redplanetscience.com/\"\r\n",
    "    browser.visit(url)\r\n",
    "   \r\n",
    "    # Pause to let the page load.\r\n",
    "    time.sleep(1)\r\n",
    "\r\n",
    "    # Scrape page into Soup\r\n",
    "    html = browser.html\r\n",
    "    soup = bs(html, \"html.parser\")\r\n",
    "\r\n",
    "    # Get the latest News Title\r\n",
    "    # From inspect I found: <div class = \"content_title\">\r\n",
    "    news_title = soup.find('div', id = \"content_title\")\r\n",
    "\r\n",
    "    # Get the latest News Paragraph text\r\n",
    "    # From inspect I found: <div class=\"article_teaser_body\">\r\n",
    "    news_p = soup.find('div', id = \"article_tear_body\")\r\n",
    "   \r\n",
    "    # Path to Mars image page.\r\n",
    "    url2 = \"https://spaceimages-mars.com/\"\r\n",
    "    browser.visit(url2)\r\n",
    "   \r\n",
    "    # Slooooowwwwww down. What's the rush?\r\n",
    "    time.sleep(1)\r\n",
    "\r\n",
    "    # Find the src for the featured Mars image.\r\n",
    "    # The main image is the second one featured.\r\n",
    "    relative_image_path = soup.find_all('img')[1][\"src\"]\r\n",
    "    mars_img = url2 + relative_image_path\r\n",
    "\r\n",
    "    # Store data in a dictionary\r\n",
    "    mars_data = {\r\n",
    "        \"mars_img\": mars_img,\r\n",
    "        \"news_title\": news_title,\r\n",
    "        \"news_p\": news_p\r\n",
    "    }\r\n",
    "\r\n",
    "    # Close the browser after scraping\r\n",
    "    browser.quit()\r\n",
    "\r\n",
    "    # Return results\r\n",
    "    return mars_data"
   ],
   "outputs": [],
   "metadata": {}
  }
 ],
 "metadata": {
  "orig_nbformat": 4,
  "language_info": {
   "name": "python",
   "version": "3.8.8",
   "mimetype": "text/x-python",
   "codemirror_mode": {
    "name": "ipython",
    "version": 3
   },
   "pygments_lexer": "ipython3",
   "nbconvert_exporter": "python",
   "file_extension": ".py"
  },
  "kernelspec": {
   "name": "python3",
   "display_name": "Python 3.8.8 64-bit ('base': conda)"
  },
  "interpreter": {
   "hash": "4e86c7d7553641a94de4070b7a270affc86a142581cb1b622d15e0863c52e4c7"
  }
 },
 "nbformat": 4,
 "nbformat_minor": 2
}